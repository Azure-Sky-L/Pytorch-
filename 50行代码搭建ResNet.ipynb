{
 "cells": [
  {
   "cell_type": "code",
   "execution_count": 1,
   "metadata": {},
   "outputs": [],
   "source": [
    "#考虑到 Residual block 和 layer 出现了多次， 我们可以把它们实现为一个子 Module 或 函数\n",
    "# 这里将 Residual block 实现为一个子 Module，而将 layer 实现为一个函数\n",
    "#规律总结如下：\n",
    "# 1.对模型中的重复部分，实现为子 module 或用函数生成相应的 module\n",
    "# 2.nn.Module 和 nn.Functional 结合使用\n",
    "# 3.尽量使用 nn.Seqential"
   ]
  },
  {
   "cell_type": "code",
   "execution_count": 1,
   "metadata": {},
   "outputs": [],
   "source": [
    "from torch import nn\n",
    "import torch as t\n",
    "from torch.nn import functional as F"
   ]
  },
  {
   "cell_type": "code",
   "execution_count": 2,
   "metadata": {},
   "outputs": [
    {
     "data": {
      "text/plain": [
       "'0.2.0_3'"
      ]
     },
     "execution_count": 2,
     "metadata": {},
     "output_type": "execute_result"
    }
   ],
   "source": [
    "t.__version__"
   ]
  },
  {
   "cell_type": "code",
   "execution_count": 15,
   "metadata": {},
   "outputs": [],
   "source": [
    "class ResidualBlock(nn.Module):\n",
    "    # 实现子 moule ： Residual Block\n",
    "    def __init__(self, inchannel, outchannel, stride = 1, shortcut = None):\n",
    "        super(ResidualBlock, self).__init__()\n",
    "        self.left = nn.Sequential(\n",
    "            nn.Conv2d(inchannel, outchannel, 3, stride, 1, bias = False),\n",
    "            nn.BatchNorm2d(outchannel),\n",
    "            nn.ReLU(inplace = True),\n",
    "            nn.Conv2d(outchannel, outchannel, 3, 1, 1, bias = False),\n",
    "            nn.BatchNorm2d(outchannel) )\n",
    "        self.right = shortcut\n",
    "        \n",
    "    def forward(self, x):\n",
    "        out = self.left(x)\n",
    "        residual = x if self.right is None else self.right(x)\n",
    "        out += residual\n",
    "        return F.relu(out)\n",
    "        \n",
    "class ResNet(nn.Module):\n",
    "    '''\n",
    "    实现主 module: ResnNet34\n",
    "    ResNet34包含多个 layer， 每个 layer 又包含多个 residual block\n",
    "    用子 module 实现 residual block， 用 _make_layer 函数实现 layer\n",
    "    '''\n",
    "    def __init__(self, num_classes = 1000):\n",
    "        super(ResNet, self).__init__()\n",
    "        #前几层图像转换\n",
    "        self.pre = nn.Sequential(\n",
    "                nn.Conv2d(3, 64, 7, 2, 3, bias = False),\n",
    "                nn.BatchNorm2d(64),\n",
    "                nn.ReLU(inplace = True),\n",
    "                nn.MaxPool2d(3, 2, 1))\n",
    "        #重复的 layer, 分别有3, 4, 6, 3个 residual block\n",
    "        self.layer1 = self._make_layer(64, 128, 3)\n",
    "        self.layer2 = self._make_layer(128, 256, 4, stride = 2)\n",
    "        self.layer3 = self._make_layer(256, 512, 6, stride = 2)\n",
    "        self.layer4 = self._make_layer(512, 512, 3, stride = 2)\n",
    "        \n",
    "        # 分类用的全连接\n",
    "        self.fc = nn.Linear(512, num_classes)\n",
    "        \n",
    "    def _make_layer(self, inchannel, outchannel, block_num, stride = 1):\n",
    "        # 构建 layer， 包含多个 residual block\n",
    "        shortcut = nn.Sequential(\n",
    "                nn.Conv2d(inchannel, outchannel, 1, stride, bias = False),\n",
    "                nn.BatchNorm2d(outchannel)\n",
    "        )\n",
    "        \n",
    "        layers = []\n",
    "        layers.append(ResidualBlock(inchannel, outchannel, stride, shortcut))\n",
    "        \n",
    "        for i in range(1, block_num):\n",
    "            layers.append(ResidualBlock(outchannel, outchannel))\n",
    "        return nn.Sequential(*layers)\n",
    "    \n",
    "    def forward(self, x):\n",
    "        x = self.pre(x)\n",
    "        \n",
    "        x = self.layer1(x)\n",
    "        x = self.layer2(x)\n",
    "        x = self.layer3(x)\n",
    "        x = self.layer4(x)\n",
    "        \n",
    "        x = F.avg_pool2d(x, 7)\n",
    "        x = x.view(x.size(0), -1)\n",
    "        return self.fc(x)"
   ]
  },
  {
   "cell_type": "code",
   "execution_count": 17,
   "metadata": {},
   "outputs": [
    {
     "data": {
      "text/plain": [
       "Variable containing:\n",
       " 0.4049 -0.4593 -0.3220  ...   0.4404 -0.5232 -0.2203\n",
       "[torch.FloatTensor of size 1x1000]"
      ]
     },
     "execution_count": 17,
     "metadata": {},
     "output_type": "execute_result"
    }
   ],
   "source": [
    "model = ResNet()\n",
    "input = t.autograd.Variable(t.randn(1, 3, 224, 224))\n",
    "o = model(input)\n",
    "o"
   ]
  },
  {
   "cell_type": "code",
   "execution_count": 19,
   "metadata": {},
   "outputs": [],
   "source": [
    "# PyTorch 配套的图像工具包 torchvision 已经实现了深度学习中大多数经典的模型\n",
    "from torchvision import models\n",
    "model = models.resnet34()"
   ]
  },
  {
   "cell_type": "code",
   "execution_count": 20,
   "metadata": {},
   "outputs": [
    {
     "data": {
      "text/plain": [
       "Variable containing:\n",
       " 0.9890  0.0817 -0.7161  ...  -0.1539 -0.0955  0.3270\n",
       "[torch.FloatTensor of size 1x1000]"
      ]
     },
     "execution_count": 20,
     "metadata": {},
     "output_type": "execute_result"
    }
   ],
   "source": [
    "input = t.autograd.Variable(t.randn(1, 3, 224, 224))\n",
    "o = model(input)\n",
    "o"
   ]
  },
  {
   "cell_type": "code",
   "execution_count": null,
   "metadata": {},
   "outputs": [],
   "source": []
  }
 ],
 "metadata": {
  "kernelspec": {
   "display_name": "Python 3",
   "language": "python",
   "name": "python3"
  },
  "language_info": {
   "codemirror_mode": {
    "name": "ipython",
    "version": 3
   },
   "file_extension": ".py",
   "mimetype": "text/x-python",
   "name": "python",
   "nbconvert_exporter": "python",
   "pygments_lexer": "ipython3",
   "version": "3.6.4"
  }
 },
 "nbformat": 4,
 "nbformat_minor": 2
}
